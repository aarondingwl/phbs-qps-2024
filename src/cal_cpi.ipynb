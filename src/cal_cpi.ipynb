{
 "cells": [
  {
   "cell_type": "code",
   "execution_count": 1,
   "id": "3f1491a0-9f7a-4d0e-875b-163d40536d3c",
   "metadata": {},
   "outputs": [],
   "source": [
    "import pandas as pd\n",
    "from pandas_datareader import data as pdr\n",
    "from datetime import datetime\n",
    "\n",
    "def fetch_cpi_data(start_date='2000-01-01'):\n",
    "    end_date = datetime.today().strftime('%Y-%m-%d')\n",
    "    try:\n",
    "        cpi_data = pdr.get_data_fred('CPIAUCSL', start=start_date, end=end_date)\n",
    "    except Exception as e:\n",
    "        raise RuntimeError(f\"Error fetching data: {e}\")\n",
    "    \n",
    "    cpi_data.rename(columns={'CPIAUCSL': 'CPI'}, inplace=True)\n",
    "    return cpi_data\n",
    "\n",
    "\n",
    "def calculate_inflation(cpi_data):\n",
    "    cpi_data['CPI_Change'] = cpi_data['CPI'].pct_change(periods=3) * 100\n",
    "    last_4_quarters = cpi_data.resample('QE').last().iloc[-4:]\n",
    "    return last_4_quarters[['CPI', 'CPI_Change']]"
   ]
  },
  {
   "cell_type": "code",
   "execution_count": 11,
   "id": "822b2d59-1634-4123-a3f4-ee75b686de95",
   "metadata": {},
   "outputs": [
    {
     "name": "stdout",
     "output_type": "stream",
     "text": [
      "                CPI\n",
      "DATE               \n",
      "2000-01-01  169.300\n",
      "2000-02-01  170.000\n",
      "2000-03-01  171.000\n",
      "2000-04-01  170.900\n",
      "2000-05-01  171.200\n",
      "...             ...\n",
      "2024-06-01  313.049\n",
      "2024-07-01  313.534\n",
      "2024-08-01  314.121\n",
      "2024-09-01  314.686\n",
      "2024-10-01  315.454\n",
      "\n",
      "[298 rows x 1 columns]\n"
     ]
    },
    {
     "name": "stderr",
     "output_type": "stream",
     "text": [
      "C:\\Users\\24232\\AppData\\Local\\Temp\\ipykernel_30416\\3753145140.py:24: FutureWarning: 'Q' is deprecated and will be removed in a future version, please use 'QE' instead.\n",
      "  last_4_quarters = cpi_data.resample('Q').last().iloc[-4:]\n"
     ]
    },
    {
     "data": {
      "text/html": [
       "<div>\n",
       "<style scoped>\n",
       "    .dataframe tbody tr th:only-of-type {\n",
       "        vertical-align: middle;\n",
       "    }\n",
       "\n",
       "    .dataframe tbody tr th {\n",
       "        vertical-align: top;\n",
       "    }\n",
       "\n",
       "    .dataframe thead th {\n",
       "        text-align: right;\n",
       "    }\n",
       "</style>\n",
       "<table border=\"1\" class=\"dataframe\">\n",
       "  <thead>\n",
       "    <tr style=\"text-align: right;\">\n",
       "      <th></th>\n",
       "      <th>CPI</th>\n",
       "      <th>CPI_Change</th>\n",
       "    </tr>\n",
       "    <tr>\n",
       "      <th>DATE</th>\n",
       "      <th></th>\n",
       "      <th></th>\n",
       "    </tr>\n",
       "  </thead>\n",
       "  <tbody>\n",
       "    <tr>\n",
       "      <th>2024-03-31</th>\n",
       "      <td>312.230</td>\n",
       "      <td>1.129746</td>\n",
       "    </tr>\n",
       "    <tr>\n",
       "      <th>2024-06-30</th>\n",
       "      <td>313.049</td>\n",
       "      <td>0.262307</td>\n",
       "    </tr>\n",
       "    <tr>\n",
       "      <th>2024-09-30</th>\n",
       "      <td>314.686</td>\n",
       "      <td>0.522921</td>\n",
       "    </tr>\n",
       "    <tr>\n",
       "      <th>2024-12-31</th>\n",
       "      <td>315.454</td>\n",
       "      <td>0.612374</td>\n",
       "    </tr>\n",
       "  </tbody>\n",
       "</table>\n",
       "</div>"
      ],
      "text/plain": [
       "                CPI  CPI_Change\n",
       "DATE                           \n",
       "2024-03-31  312.230    1.129746\n",
       "2024-06-30  313.049    0.262307\n",
       "2024-09-30  314.686    0.522921\n",
       "2024-12-31  315.454    0.612374"
      ]
     },
     "execution_count": 11,
     "metadata": {},
     "output_type": "execute_result"
    }
   ],
   "source": [
    "cpi = fetch_cpi_data()\n",
    "print(cpi)\n",
    "calculate_inflation(cpi)"
   ]
  }
 ],
 "metadata": {
  "kernelspec": {
   "display_name": "Python 3 (ipykernel)",
   "language": "python",
   "name": "python3"
  },
  "language_info": {
   "codemirror_mode": {
    "name": "ipython",
    "version": 3
   },
   "file_extension": ".py",
   "mimetype": "text/x-python",
   "name": "python",
   "nbconvert_exporter": "python",
   "pygments_lexer": "ipython3",
   "version": "3.12.4"
  }
 },
 "nbformat": 4,
 "nbformat_minor": 5
}
